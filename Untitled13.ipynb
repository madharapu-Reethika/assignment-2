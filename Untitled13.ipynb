{
  "nbformat": 4,
  "nbformat_minor": 0,
  "metadata": {
    "colab": {
      "provenance": []
    },
    "kernelspec": {
      "name": "python3",
      "display_name": "Python 3"
    },
    "language_info": {
      "name": "python"
    }
  },
  "cells": [
    {
      "cell_type": "code",
      "execution_count": 10,
      "metadata": {
        "id": "erZ87CThTuLm"
      },
      "outputs": [],
      "source": [
        "import pandas as pd"
      ]
    },
    {
      "cell_type": "code",
      "source": [
        "can=pd.read_csv('/content/CC GENERAL.csv')"
      ],
      "metadata": {
        "id": "ND8CAgJ-UC-o"
      },
      "execution_count": 3,
      "outputs": []
    },
    {
      "cell_type": "code",
      "source": [
        "print(can)"
      ],
      "metadata": {
        "colab": {
          "base_uri": "https://localhost:8080/"
        },
        "id": "AC1o70QSUMTS",
        "outputId": "60dda09b-9c00-4b86-9b87-923585fde2d3"
      },
      "execution_count": 4,
      "outputs": [
        {
          "output_type": "stream",
          "name": "stdout",
          "text": [
            "     CUST_ID      BALANCE  BALANCE_FREQUENCY  PURCHASES  ONEOFF_PURCHASES  \\\n",
            "0     C10001    40.900749           0.818182      95.40              0.00   \n",
            "1     C10002  3202.467416           0.909091       0.00              0.00   \n",
            "2     C10003  2495.148862           1.000000     773.17            773.17   \n",
            "3     C10004  1666.670542           0.636364    1499.00           1499.00   \n",
            "4     C10005   817.714335           1.000000      16.00             16.00   \n",
            "...      ...          ...                ...        ...               ...   \n",
            "8945  C19186    28.493517           1.000000     291.12              0.00   \n",
            "8946  C19187    19.183215           1.000000     300.00              0.00   \n",
            "8947  C19188    23.398673           0.833333     144.40              0.00   \n",
            "8948  C19189    13.457564           0.833333       0.00              0.00   \n",
            "8949  C19190   372.708075           0.666667    1093.25           1093.25   \n",
            "\n",
            "      INSTALLMENTS_PURCHASES  CASH_ADVANCE  PURCHASES_FREQUENCY  \\\n",
            "0                      95.40      0.000000             0.166667   \n",
            "1                       0.00   6442.945483             0.000000   \n",
            "2                       0.00      0.000000             1.000000   \n",
            "3                       0.00    205.788017             0.083333   \n",
            "4                       0.00      0.000000             0.083333   \n",
            "...                      ...           ...                  ...   \n",
            "8945                  291.12      0.000000             1.000000   \n",
            "8946                  300.00      0.000000             1.000000   \n",
            "8947                  144.40      0.000000             0.833333   \n",
            "8948                    0.00     36.558778             0.000000   \n",
            "8949                    0.00    127.040008             0.666667   \n",
            "\n",
            "      ONEOFF_PURCHASES_FREQUENCY  PURCHASES_INSTALLMENTS_FREQUENCY  \\\n",
            "0                       0.000000                          0.083333   \n",
            "1                       0.000000                          0.000000   \n",
            "2                       1.000000                          0.000000   \n",
            "3                       0.083333                          0.000000   \n",
            "4                       0.083333                          0.000000   \n",
            "...                          ...                               ...   \n",
            "8945                    0.000000                          0.833333   \n",
            "8946                    0.000000                          0.833333   \n",
            "8947                    0.000000                          0.666667   \n",
            "8948                    0.000000                          0.000000   \n",
            "8949                    0.666667                          0.000000   \n",
            "\n",
            "      CASH_ADVANCE_FREQUENCY  CASH_ADVANCE_TRX  PURCHASES_TRX  CREDIT_LIMIT  \\\n",
            "0                   0.000000                 0              2        1000.0   \n",
            "1                   0.250000                 4              0        7000.0   \n",
            "2                   0.000000                 0             12        7500.0   \n",
            "3                   0.083333                 1              1        7500.0   \n",
            "4                   0.000000                 0              1        1200.0   \n",
            "...                      ...               ...            ...           ...   \n",
            "8945                0.000000                 0              6        1000.0   \n",
            "8946                0.000000                 0              6        1000.0   \n",
            "8947                0.000000                 0              5        1000.0   \n",
            "8948                0.166667                 2              0         500.0   \n",
            "8949                0.333333                 2             23        1200.0   \n",
            "\n",
            "         PAYMENTS  MINIMUM_PAYMENTS  PRC_FULL_PAYMENT  TENURE  \n",
            "0      201.802084        139.509787          0.000000      12  \n",
            "1     4103.032597       1072.340217          0.222222      12  \n",
            "2      622.066742        627.284787          0.000000      12  \n",
            "3        0.000000               NaN          0.000000      12  \n",
            "4      678.334763        244.791237          0.000000      12  \n",
            "...           ...               ...               ...     ...  \n",
            "8945   325.594462         48.886365          0.500000       6  \n",
            "8946   275.861322               NaN          0.000000       6  \n",
            "8947    81.270775         82.418369          0.250000       6  \n",
            "8948    52.549959         55.755628          0.250000       6  \n",
            "8949    63.165404         88.288956          0.000000       6  \n",
            "\n",
            "[8950 rows x 18 columns]\n"
          ]
        }
      ]
    },
    {
      "cell_type": "code",
      "source": [
        "print(can.dtypes)\n",
        "print(\"shape\",can.shape)"
      ],
      "metadata": {
        "colab": {
          "base_uri": "https://localhost:8080/"
        },
        "id": "gmJPD6yEUa33",
        "outputId": "1d5db5b3-59d1-41e2-e1b0-cb36cbdc3f5c"
      },
      "execution_count": 5,
      "outputs": [
        {
          "output_type": "stream",
          "name": "stdout",
          "text": [
            "CUST_ID                              object\n",
            "BALANCE                             float64\n",
            "BALANCE_FREQUENCY                   float64\n",
            "PURCHASES                           float64\n",
            "ONEOFF_PURCHASES                    float64\n",
            "INSTALLMENTS_PURCHASES              float64\n",
            "CASH_ADVANCE                        float64\n",
            "PURCHASES_FREQUENCY                 float64\n",
            "ONEOFF_PURCHASES_FREQUENCY          float64\n",
            "PURCHASES_INSTALLMENTS_FREQUENCY    float64\n",
            "CASH_ADVANCE_FREQUENCY              float64\n",
            "CASH_ADVANCE_TRX                      int64\n",
            "PURCHASES_TRX                         int64\n",
            "CREDIT_LIMIT                        float64\n",
            "PAYMENTS                            float64\n",
            "MINIMUM_PAYMENTS                    float64\n",
            "PRC_FULL_PAYMENT                    float64\n",
            "TENURE                                int64\n",
            "dtype: object\n",
            "shape (8950, 18)\n"
          ]
        }
      ]
    },
    {
      "cell_type": "code",
      "source": [
        "h=can.drop('CUST_ID',axis=1)"
      ],
      "metadata": {
        "id": "P5mmCISaUkw-"
      },
      "execution_count": 6,
      "outputs": []
    },
    {
      "cell_type": "code",
      "source": [
        "print(h.isnull().sum())"
      ],
      "metadata": {
        "colab": {
          "base_uri": "https://localhost:8080/"
        },
        "id": "RGRH2LgSUuF7",
        "outputId": "22e8c33d-bf15-4080-b0fc-5f1fdf8ab492"
      },
      "execution_count": 7,
      "outputs": [
        {
          "output_type": "stream",
          "name": "stdout",
          "text": [
            "BALANCE                               0\n",
            "BALANCE_FREQUENCY                     0\n",
            "PURCHASES                             0\n",
            "ONEOFF_PURCHASES                      0\n",
            "INSTALLMENTS_PURCHASES                0\n",
            "CASH_ADVANCE                          0\n",
            "PURCHASES_FREQUENCY                   0\n",
            "ONEOFF_PURCHASES_FREQUENCY            0\n",
            "PURCHASES_INSTALLMENTS_FREQUENCY      0\n",
            "CASH_ADVANCE_FREQUENCY                0\n",
            "CASH_ADVANCE_TRX                      0\n",
            "PURCHASES_TRX                         0\n",
            "CREDIT_LIMIT                          1\n",
            "PAYMENTS                              0\n",
            "MINIMUM_PAYMENTS                    313\n",
            "PRC_FULL_PAYMENT                      0\n",
            "TENURE                                0\n",
            "dtype: int64\n"
          ]
        }
      ]
    },
    {
      "cell_type": "code",
      "source": [
        "can['MINIMUM_PAYMENTS'].isnull().sum()/h.shape[0]"
      ],
      "metadata": {
        "colab": {
          "base_uri": "https://localhost:8080/"
        },
        "id": "BRv07fMmU2rg",
        "outputId": "7e014d19-a65c-4ada-d3e5-0228a75a906e"
      },
      "execution_count": 8,
      "outputs": [
        {
          "output_type": "execute_result",
          "data": {
            "text/plain": [
              "0.034972067039106144"
            ]
          },
          "metadata": {},
          "execution_count": 8
        }
      ]
    },
    {
      "cell_type": "code",
      "source": [
        "from sklearn.cluster import KMeans\n",
        "import pandas as pd\n",
        "\n",
        "\n",
        "can = pd.read_csv('/content/CC GENERAL.csv')\n",
        "\n",
        "\n",
        "h = can.drop('CUST_ID', axis=1)\n",
        "\n",
        "\n",
        "h.fillna(method='ffill', inplace=True)\n",
        "\n",
        "\n",
        "kmeans = KMeans(n_clusters=5, random_state=42)\n",
        "\n",
        "\n",
        "kmeans.fit(h)\n",
        "\n",
        "\n",
        "cluster_labels = kmeans.labels_\n",
        "\n",
        "\n",
        "h['Cluster'] = cluster_labels\n",
        "\n",
        "\n",
        "print(h['Cluster'].value_counts())\n",
        "\n",
        "\n",
        "print(kmeans.cluster_centers_)\n"
      ],
      "metadata": {
        "colab": {
          "base_uri": "https://localhost:8080/"
        },
        "id": "jsofR5hiX09-",
        "outputId": "eeb2fa97-f66f-4a5e-994e-6bb1c0b47d85"
      },
      "execution_count": 11,
      "outputs": [
        {
          "output_type": "stream",
          "name": "stderr",
          "text": [
            "/usr/local/lib/python3.10/dist-packages/sklearn/cluster/_kmeans.py:870: FutureWarning: The default value of `n_init` will change from 10 to 'auto' in 1.4. Set the value of `n_init` explicitly to suppress the warning\n",
            "  warnings.warn(\n"
          ]
        },
        {
          "output_type": "stream",
          "name": "stdout",
          "text": [
            "Cluster\n",
            "4    5601\n",
            "1    2578\n",
            "2     685\n",
            "0      61\n",
            "3      25\n",
            "Name: count, dtype: int64\n",
            "[[3.75193626e+03 9.30141590e-01 9.72372787e+02 1.09996885e+02\n",
            "  8.62375902e+02 8.85056948e+02 4.65909066e-01 3.80650328e-02\n",
            "  4.36164951e-01 1.01775918e-01 2.91803279e+00 1.74754098e+01\n",
            "  4.10983607e+03 1.49305197e+03 2.24370391e+04 2.73222951e-03\n",
            "  1.17704918e+01]\n",
            " [2.04462597e+03 9.11987504e-01 1.34556078e+03 8.36178270e+02\n",
            "  5.09758258e+02 1.07624792e+03 5.54342014e-01 3.14038992e-01\n",
            "  3.83287181e-01 1.42580909e-01 3.42940264e+00 1.95263770e+01\n",
            "  7.38283024e+03 1.93702304e+03 7.66983598e+02 1.74500239e-01\n",
            "  1.17319628e+01]\n",
            " [5.68476877e+03 9.52867688e-01 2.71201003e+03 1.70487320e+03\n",
            "  1.00726669e+03 4.61618979e+03 5.31322651e-01 3.32862231e-01\n",
            "  4.06538184e-01 3.26508933e-01 1.04861314e+01 3.32525547e+01\n",
            "  1.14010285e+04 6.65702476e+03 2.09253427e+03 1.15363358e-01\n",
            "  1.17299270e+01]\n",
            " [5.51904482e+03 9.59636360e-01 2.62568628e+04 2.10020188e+04\n",
            "  5.25484400e+03 1.49196450e+03 9.12666640e-01 8.08666720e-01\n",
            "  7.31999960e-01 5.99999600e-02 2.44000000e+00 1.23320000e+02\n",
            "  1.61600000e+04 2.84337129e+04 3.22200380e+03 4.97424240e-01\n",
            "  1.19200000e+01]\n",
            " [7.98088399e+02 8.51102535e-01 5.24257165e+02 2.58355378e+02\n",
            "  2.66192630e+02 4.87939963e+02 4.54267196e-01 1.34235759e-01\n",
            "  3.48190526e-01 1.09016258e-01 2.28780575e+00 9.71023032e+00\n",
            "  2.27235980e+03 9.20551887e+02 5.14888705e+02 1.48948101e-01\n",
            "  1.13879664e+01]]\n"
          ]
        }
      ]
    },
    {
      "cell_type": "code",
      "source": [
        "import pandas as pd\n",
        "from sklearn.cluster import AgglomerativeClustering\n",
        "from scipy.cluster.hierarchy import dendrogram, linkage\n",
        "import matplotlib.pyplot as plt\n",
        "\n",
        "\n",
        "can = pd.read_csv('/content/CC GENERAL.csv')\n",
        "\n",
        "\n",
        "h = can.drop('CUST_ID', axis=1)\n",
        "\n",
        "\n",
        "h.fillna(method='ffill', inplace=True)\n",
        "\n",
        "\n",
        "agglomerative_cluster = AgglomerativeClustering(n_clusters=5)\n",
        "cluster_labels = agglomerative_cluster.fit_predict(h)\n",
        "\n",
        "\n",
        "h['Cluster'] = cluster_labels\n",
        "\n",
        "\n",
        "print(h['Cluster'].value_counts())\n",
        "\n",
        "\n",
        "linked = linkage(h, 'ward')\n",
        "plt.figure(figsize=(10, 7))\n",
        "dendrogram(linked,\n",
        "orientation='top', distance_sort='descending',\n",
        "show_leaf_counts=True)\n",
        "plt.title('Hierarchical Clustering Dendrogram')\n",
        "plt.xlabel('sample index')\n",
        "plt.ylabel('distance')\n",
        "plt.show()\n"
      ],
      "metadata": {
        "colab": {
          "base_uri": "https://localhost:8080/",
          "height": 767
        },
        "id": "xgWt6uGaZDs3",
        "outputId": "83aab46a-8b5e-4338-a071-f7c3657dc5f8"
      },
      "execution_count": 14,
      "outputs": [
        {
          "output_type": "stream",
          "name": "stdout",
          "text": [
            "Cluster\n",
            "3    5420\n",
            "0    2733\n",
            "1     703\n",
            "4      71\n",
            "2      23\n",
            "Name: count, dtype: int64\n"
          ]
        },
        {
          "output_type": "display_data",
          "data": {
            "text/plain": [
              "<Figure size 1000x700 with 1 Axes>"
            ],
            "image/png": "[encoded data removed]"
          },
          "metadata": {}
        }
      ]
    }
  ]
}